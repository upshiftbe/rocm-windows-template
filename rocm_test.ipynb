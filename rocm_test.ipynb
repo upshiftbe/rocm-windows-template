{
 "cells": [
  {
   "cell_type": "code",
   "execution_count": null,
   "metadata": {},
   "outputs": [],
   "source": []
  }
 ],
 "metadata": {
  "kernelspec": {
   "display_name": "Python 3.9.13 64-bit (windows store)",
   "language": "python",
   "name": "python3"
  },
  "language_info": {
   "name": "python",
   "version": "3.9.13"
  },
  "orig_nbformat": 4,
  "vscode": {
   "interpreter": {
    "hash": "c7ea862f2c4a79d81cb0488169991edbcfe66d6a8a091bfd4dafb772260437bd"
   }
  }
 },
 "nbformat": 4,
 "nbformat_minor": 2
}
